{
 "cells": [
  {
   "cell_type": "code",
   "execution_count": 3,
   "id": "11c4edd4-2bbc-4871-8cdf-d05f90cd480b",
   "metadata": {
    "tags": []
   },
   "outputs": [],
   "source": [
    "# define rooms and items\n",
    "#item in game room: couch, piano, key_a, and door_a\n",
    "#item in Bedroom1 : queen bed, key to door b, door b \n",
    "couch = {\n",
    "    \"name\": \"couch\",\n",
    "    \"type\": \"furniture\",\n",
    "}\n",
    "\n",
    "door_a = {\n",
    "    \"name\": \"door a\",\n",
    "    \"type\": \"door\",\n",
    "}\n",
    "\n",
    "key_a = {\n",
    "    \"name\": \"key for door a\",\n",
    "    \"type\": \"key\",\n",
    "    \"target\": door_a,\n",
    "}\n",
    "\n",
    "piano = {\n",
    "    \"name\": \"piano\",\n",
    "    \"type\": \"furniture\",\n",
    "}\n",
    "\n",
    "game_room = {\n",
    "    \"name\": \"game room\",\n",
    "    \"type\": \"room\",\n",
    "}\n",
    "\n",
    "outside = {\n",
    "  \"name\": \"outside\"\n",
    "}\n",
    "\n",
    "bedroom_1 = {\n",
    "    \"name\": \"bedroom 1\",\n",
    "    \"type\": \"room\",\n",
    "}\n",
    "\n",
    "queen_bed = {\n",
    "    \"name\": \"queen bed\",\n",
    "    \"type\": \"furniture\",\n",
    "}\n",
    "\n",
    "door_b = {\n",
    "    \"name\": \"door b\",\n",
    "    \"type\": \"door\",\n",
    "}\n",
    "key_b = {\n",
    "    \"name\": \"key for door b\",\n",
    "    \"type\": \"key\",\n",
    "    \"target\": door_b,\n",
    "}\n",
    "door_c = {\n",
    "    \"name\": \"door c\",\n",
    "    \"type\": \"door\",\n",
    "}\n",
    "bedroom_2 = {\n",
    "    \"name\": \"bedroom 2\",\n",
    "    \"type\":\"room\",\n",
    "}\n",
    "key_c = {\n",
    "    \"name\": \"key for door c\",\n",
    "    \"type\": \"key\",\n",
    "    \"target\": door_c,\n",
    "}\n",
    "\n",
    "dresser = {\n",
    "    \"name\": \"dresser\",\n",
    "    \"type\": \"furniture\",\n",
    "}\n",
    "\n",
    "door_d = {\n",
    "    \"name\": \"door d\",\n",
    "    \"type\": \"door\",\n",
    "}\n",
    "key_d = {\n",
    "    \"name\": \"key for door d\",\n",
    "    \"type\": \"key\",\n",
    "    \"target\": door_d,\n",
    "}\n",
    "\n",
    "double_bed = {\n",
    "    \"name\": \"double bed\",\n",
    "    \"type\": \"furniture\",\n",
    "}\n",
    "dining_table = {\n",
    "    \"name\": \"dining table\",\n",
    "    \"type\": \"furniture\",\n",
    "}\n",
    "\n",
    "living_room = {\n",
    "    \"name\": \"living room\",\n",
    "    \"type\":\"room\",\n",
    "}\n",
    "\n",
    "corridor={\n",
    "    \"name\": \"corridor\",\n",
    "    \"type\": \"room\",\n",
    "}\n",
    "\n",
    "door_e = {\n",
    "    \"name\": \"door e\",\n",
    "    \"type\": \"door\",\n",
    "}\n",
    "door_f = {\n",
    "    \"name\": \"door f\",\n",
    "    \"type\": \"door\",\n",
    "}\n",
    "\n",
    "dominatrix_table = {\n",
    "    \"name\": \"dominatrix table\",\n",
    "    \"type\": \"furniture\",\n",
    "}\n",
    "the_pit = {\n",
    "    \"name\": \"the pit\",\n",
    "    \"type\": \"room\",\n",
    "}\n",
    "\n",
    "key_e = {\n",
    "    \"name\": \"key for door e\",\n",
    "    \"type\": \"key\",\n",
    "    \"target\": door_e,\n",
    "}\n",
    "key_f = {\n",
    "    \"name\": \"key for door f\",\n",
    "    \"type\": \"key\",\n",
    "    \"target\": door_f,\n",
    "}\n",
    "black_box = {\n",
    "    \"name\": \"black box\",\n",
    "    \"type\": \"furniture\"\n",
    "}\n",
    "blue_box = {\n",
    "    \"name\": \"blue box\",\n",
    "    \"type\": \"furniture\"\n",
    "}\n",
    "\n",
    "\n",
    "all_rooms = [game_room, outside, bedroom_1, bedroom_2, living_room]\n",
    "\n",
    "all_doors = [door_a,door_b,door_c,door_d,door_e,door_f]\n",
    "\n",
    "from playsound import playsound # sound import library\n",
    "from IPython.display import Image\n",
    "\n",
    "\n",
    "# define which items/rooms are related\n",
    "\n",
    "object_relations = {\n",
    "    \n",
    "    \"game room\": [couch, piano, door_a],\n",
    "    \"piano\": [key_a],\n",
    "    \"outside\": [door_f],\n",
    "    \"door a\": [game_room, bedroom_1],\n",
    "    \"bedroom 1\": [queen_bed, door_a, door_b, door_c],\n",
    "    \"queen bed\":[key_b],\n",
    "    \"door b\":[bedroom_1,bedroom_2],\n",
    "    \"door c\" :[bedroom_1,living_room],\n",
    "    \"bedroom 2\": [double_bed, dresser, door_b],\n",
    "    \"double bed\":[key_c],\n",
    "    \"dresser\":[key_d],\n",
    "    \"door d\":[living_room,corridor],\n",
    "    \"living room\":[door_d, dining_table],\n",
    "    \"door e\":[corridor,the_pit],\n",
    "    \"corridor\":[door_f,door_e,black_box,blue_box],\n",
    "    \"door f\":[outside,corridor],\n",
    "    \"black box\":[key_e],\n",
    "    \"the pit\":[door_e],\n",
    "    \"blue box\":[key_f],\n",
    "    \n",
    "}\n",
    "\n",
    "# define game state. Do not directly change this dict. \n",
    "# Instead, when a new game starts, make a copy of this\n",
    "# dict and use the copy to store gameplay state. This \n",
    "# way you can replay the game multiple times.\n",
    "\n",
    "INIT_GAME_STATE = {\n",
    "    \"current_room\": game_room,\n",
    "    \"keys_collected\": [],\n",
    "    \"target_room\": outside,\n",
    "    \"time_limit\" : 30000\n",
    "}"
   ]
  },
  {
   "cell_type": "code",
   "execution_count": 4,
   "id": "d6fe189c-3ea4-4016-b6ea-fbab1c0f3061",
   "metadata": {
    "tags": []
   },
   "outputs": [],
   "source": [
    "#import sounds \n",
    "import time #KB\n",
    "rooms_visited = [] #KB created a list to store all rooms visitedx\n",
    "starttime = time.time() #KB\n",
    "\n",
    "def level():\n",
    "    user_level = int(input(\"enter 1 for easy, 2 for medium, 3 for hard\"))\n",
    "    if user_level == 1:\n",
    "        time_limit = 150\n",
    "        \n",
    "    elif user_level == 2:\n",
    "        time_limit = 100\n",
    "        \n",
    "    else :\n",
    "        time_limit = 50\n",
    "    return time_limit\n",
    "\n",
    "\n",
    "def linebreak():\n",
    "    \"\"\"\n",
    "    Print a line break\n",
    "    \"\"\"\n",
    "    print(\"\\n\\n\")\n",
    "\n",
    "def start_game():\n",
    "    \"\"\"\n",
    "    Start the game\n",
    "    \"\"\"\n",
    "    \n",
    "    \n",
    "    print(\"You wake up on a couch and find yourself in a strange house with no windows which you have never been to before. You don't remember why you are here and what had happened before. You feel some unknown danger is approaching and you must get out of the house, NOW!\")\n",
    "    playsound(\"welcome.mp3\") #launch sound\n",
    "    game_state[\"time_limit\"]=level()\n",
    "    print(\"Your time starts now! You have  \" + str(game_state[\"time_limit\"]) + \" seconds to get out of the house!\") #KB\n",
    "    display(Image(filename='start.png'))\n",
    "    play_room(game_state[\"current_room\"])\n",
    "\n",
    "\n",
    "def play_room(room):\n",
    "    \"\"\"\n",
    "    Play a room. First check if the room being played is the target room.\n",
    "    If it is, the game will end with success. Otherwise, let player either \n",
    "    explore (list all items in this room) or examine an item found here.\n",
    "    \"\"\"\n",
    "    game_state[\"current_room\"] = room \n",
    "\n",
    "    if room in rooms_visited: #KB\n",
    "        pass #KB\n",
    "    else: #KB\n",
    "        rooms_visited.append(room) #KB added current room to list\n",
    "    # print(rooms_visited) # KB print command\n",
    "    if(game_state[\"current_room\"] == game_state[\"target_room\"]):\n",
    "        print(\"Congrats! You escaped the room!\")\n",
    "        display(Image(filename='test.png'))\n",
    "    elif(game_state[\"current_room\"] == the_pit):\n",
    "        print(\"Congrats! You died!\")\n",
    "    else:\n",
    "        print(\"You are now in \"+ room[\"name\"])\n",
    "        time_now=time.time()\n",
    "        print(\"Playing for \" + str(int(time_now - starttime)) + \" seconds\" + \" ONLY \" +str(game_state[\"time_limit\"] - (int(time_now - starttime))) + \" SECONDS LEFT!!!\") #KB\n",
    "        \n",
    "        if int(time_now - starttime) >= game_state[\"time_limit\"]: #KB\n",
    "            print(\"You have run out of time! Game over!\")\n",
    "        else :\n",
    "            intended_action = input(\"What would you like to do? Type 'explore' or 'examine' or 'teleport'?\").strip()\n",
    "            if intended_action == \"explore\":\n",
    "                if int(time_now - starttime) >= game_state[\"time_limit\"]: #KB\n",
    "                    print(\"You have run out of time! Game over!\")\n",
    "                else:\n",
    "                    explore_room(room)\n",
    "                    play_room(room)\n",
    "            elif intended_action == \"examine\":\n",
    "                if int(time_now - starttime) >= game_state[\"time_limit\"]: #KB\n",
    "                    print(\"You have run out of time! Game over!\")\n",
    "                else:\n",
    "                    examine_item(input(\"What would you like to examine?\").strip())\n",
    "            elif intended_action == \"teleport\": #KB\n",
    "                intended_room = (input(f\"Which room would you like to teleport to? You can teleport to {[rooms['name'] for rooms in rooms_visited]}\").strip()) #KB\n",
    "                # print(intended_room) #KB\n",
    "                for rooms in rooms_visited: #KB\n",
    "                    if intended_room in rooms[\"name\"]: #KB\n",
    "                        room = rooms #KB\n",
    "                # print(room) #KB\n",
    "                playsound(\"teleport.mp3\")\n",
    "                play_room(room) #KB\n",
    "                \n",
    "            else:\n",
    "                print(\"Not sure what you mean. Type 'explore' or 'examine'or 'teleport'.\")\n",
    "                play_room(room)\n",
    "            linebreak()\n",
    "\n",
    "def explore_room(room):\n",
    "    \"\"\"\n",
    "    Explore a room. List all items belonging to this room.\n",
    "    \"\"\"\n",
    "    items = [i[\"name\"] for i in object_relations[room[\"name\"]]]\n",
    "    print(\"You explore the room. This is \" + room[\"name\"] + \". You find \" + \", \".join(items))\n",
    "\n",
    "def get_next_room_of_door(door, current_room):\n",
    "    \"\"\"\n",
    "    From object_relations, find the two rooms connected to the given door.\n",
    "    Return the room that is not the current_room.\n",
    "    \"\"\"\n",
    "    connected_rooms = object_relations[door[\"name\"]]\n",
    "    for room in connected_rooms:\n",
    "        if(not current_room == room):\n",
    "            return room\n",
    "\n",
    "# def teleport(room):\n",
    "#     \"\"\"if user has already been to a room, he can go back there directly \"\"\"\n",
    "#     print(f\"The rooms you have been to are: {}\")\n",
    "\n",
    "\n",
    "\n",
    "def examine_item(item_name):\n",
    "    \"\"\"\n",
    "    Examine an item which can be a door or furniture.\n",
    "    First make sure the intended item belongs to the current room.\n",
    "    Then check if the item is a door. Tell player if key hasn't been \n",
    "    collected yet. Otherwise ask player if they want to go to the next\n",
    "    room. If the item is not a door, then check if it contains keys.\n",
    "    Collect the key if found and update the game state. At the end,\n",
    "    play either the current or the next room depending on the game state\n",
    "    to keep playing.\n",
    "    \"\"\"\n",
    "    current_room = game_state[\"current_room\"]\n",
    "    next_room = \"\"\n",
    "    output = None\n",
    "    \n",
    "    for item in object_relations[current_room[\"name\"]]:\n",
    "        if(item[\"name\"] == item_name):\n",
    "            output = \"You examine \" + item_name + \". \"\n",
    "           \n",
    "            if(item[\"type\"] == \"door\"):\n",
    "                have_key = False\n",
    "                for key in game_state[\"keys_collected\"]:\n",
    "                    if(key[\"target\"] == item):\n",
    "                        have_key = True\n",
    "                if(have_key):\n",
    "                    output += \"You unlock it with a key you have.\"\n",
    "                    next_room = get_next_room_of_door(item, current_room)\n",
    "                else:\n",
    "                    output += \"It is locked but you don't have the key.\"\n",
    "            else:\n",
    "                if(item[\"name\"] in object_relations and len(object_relations[item[\"name\"]])>0):\n",
    "                    item_found = object_relations[item[\"name\"]].pop()\n",
    "                    game_state[\"keys_collected\"].append(item_found)\n",
    "                    output += \"You find \" + item_found[\"name\"] + \".\"\n",
    "                else:\n",
    "                    output += \"There isn't anything interesting about it.\"\n",
    "            print(output)\n",
    "            break\n",
    "\n",
    "    if(output is None):\n",
    "        print(\"The item you requested is not found in the current room.\")\n",
    "    \n",
    "    if(next_room and input(\"Do you want to go to the next room? Ener 'yes' or 'no'\").strip() == 'yes'):\n",
    "        play_room(next_room)\n",
    "    else:\n",
    "        play_room(current_room)\n",
    "\n"
   ]
  },
  {
   "cell_type": "code",
   "execution_count": 5,
   "id": "3d523e4e-49eb-41b1-b412-40ea87ac69be",
   "metadata": {
    "tags": []
   },
   "outputs": [
    {
     "name": "stdout",
     "output_type": "stream",
     "text": [
      "You wake up on a couch and find yourself in a strange house with no windows which you have never been to before. You don't remember why you are here and what had happened before. You feel some unknown danger is approaching and you must get out of the house, NOW!\n"
     ]
    },
    {
     "name": "stdin",
     "output_type": "stream",
     "text": [
      "enter 1 for easy, 2 for medium, 3 for hard 1\n"
     ]
    },
    {
     "name": "stdout",
     "output_type": "stream",
     "text": [
      "Your time starts now! You have  150 seconds to get out of the house!\n"
     ]
    },
    {
     "data": {
      "image/png": "[encoded data removed]",
      "text/plain": [
       "<IPython.core.display.Image object>"
      ]
     },
     "metadata": {},
     "output_type": "display_data"
    },
    {
     "name": "stdout",
     "output_type": "stream",
     "text": [
      "You are now in game room\n",
      "Playing for 9 seconds ONLY 141 SECONDS LEFT!!!\n"
     ]
    },
    {
     "name": "stdin",
     "output_type": "stream",
     "text": [
      "What would you like to do? Type 'explore' or 'examine' or 'teleport'? explore\n"
     ]
    },
    {
     "name": "stdout",
     "output_type": "stream",
     "text": [
      "You explore the room. This is game room. You find couch, piano, door a\n",
      "You are now in game room\n",
      "Playing for 21 seconds ONLY 129 SECONDS LEFT!!!\n"
     ]
    },
    {
     "name": "stdin",
     "output_type": "stream",
     "text": [
      "What would you like to do? Type 'explore' or 'examine' or 'teleport'? examine\n",
      "What would you like to examine? piano\n"
     ]
    },
    {
     "name": "stdout",
     "output_type": "stream",
     "text": [
      "You examine piano. You find key for door a.\n",
      "You are now in game room\n",
      "Playing for 32 seconds ONLY 118 SECONDS LEFT!!!\n"
     ]
    },
    {
     "name": "stdin",
     "output_type": "stream",
     "text": [
      "What would you like to do? Type 'explore' or 'examine' or 'teleport'? examine\n",
      "What would you like to examine? door a\n"
     ]
    },
    {
     "name": "stdout",
     "output_type": "stream",
     "text": [
      "You examine door a. You unlock it with a key you have.\n"
     ]
    },
    {
     "name": "stdin",
     "output_type": "stream",
     "text": [
      "Do you want to go to the next room? Ener 'yes' or 'no' yes \n"
     ]
    },
    {
     "name": "stdout",
     "output_type": "stream",
     "text": [
      "You are now in bedroom 1\n",
      "Playing for 47 seconds ONLY 103 SECONDS LEFT!!!\n"
     ]
    },
    {
     "name": "stdin",
     "output_type": "stream",
     "text": [
      "What would you like to do? Type 'explore' or 'examine' or 'teleport'? explore\n"
     ]
    },
    {
     "name": "stdout",
     "output_type": "stream",
     "text": [
      "You explore the room. This is bedroom 1. You find queen bed, door a, door b, door c\n",
      "You are now in bedroom 1\n",
      "Playing for 49 seconds ONLY 101 SECONDS LEFT!!!\n"
     ]
    },
    {
     "name": "stdin",
     "output_type": "stream",
     "text": [
      "What would you like to do? Type 'explore' or 'examine' or 'teleport'? examine\n",
      "What would you like to examine? queen bed\n"
     ]
    },
    {
     "name": "stdout",
     "output_type": "stream",
     "text": [
      "You examine queen bed. You find key for door b.\n",
      "You are now in bedroom 1\n",
      "Playing for 67 seconds ONLY 83 SECONDS LEFT!!!\n"
     ]
    },
    {
     "name": "stdin",
     "output_type": "stream",
     "text": [
      "What would you like to do? Type 'explore' or 'examine' or 'teleport'? examine\n",
      "What would you like to examine? door b\n"
     ]
    },
    {
     "name": "stdout",
     "output_type": "stream",
     "text": [
      "You examine door b. You unlock it with a key you have.\n"
     ]
    },
    {
     "name": "stdin",
     "output_type": "stream",
     "text": [
      "Do you want to go to the next room? Ener 'yes' or 'no' yes\n"
     ]
    },
    {
     "name": "stdout",
     "output_type": "stream",
     "text": [
      "You are now in bedroom 2\n",
      "Playing for 78 seconds ONLY 72 SECONDS LEFT!!!\n"
     ]
    },
    {
     "name": "stdin",
     "output_type": "stream",
     "text": [
      "What would you like to do? Type 'explore' or 'examine' or 'teleport'? examine\n",
      "What would you like to examine? double bed\n"
     ]
    },
    {
     "name": "stdout",
     "output_type": "stream",
     "text": [
      "You examine double bed. You find key for door c.\n",
      "You are now in bedroom 2\n",
      "Playing for 84 seconds ONLY 66 SECONDS LEFT!!!\n"
     ]
    },
    {
     "name": "stdin",
     "output_type": "stream",
     "text": [
      "What would you like to do? Type 'explore' or 'examine' or 'teleport'? examine\n",
      "What would you like to examine? dresser\n"
     ]
    },
    {
     "name": "stdout",
     "output_type": "stream",
     "text": [
      "You examine dresser. You find key for door d.\n",
      "You are now in bedroom 2\n",
      "Playing for 87 seconds ONLY 63 SECONDS LEFT!!!\n"
     ]
    },
    {
     "name": "stdin",
     "output_type": "stream",
     "text": [
      "What would you like to do? Type 'explore' or 'examine' or 'teleport'? teleport\n",
      "Which room would you like to teleport to? You can teleport to ['game room', 'bedroom 1', 'bedroom 2'] bedroom 1\n"
     ]
    },
    {
     "name": "stdout",
     "output_type": "stream",
     "text": [
      "You are now in bedroom 1\n",
      "Playing for 98 seconds ONLY 52 SECONDS LEFT!!!\n"
     ]
    },
    {
     "name": "stdin",
     "output_type": "stream",
     "text": [
      "What would you like to do? Type 'explore' or 'examine' or 'teleport'? examine\n",
      "What would you like to examine? door c\n"
     ]
    },
    {
     "name": "stdout",
     "output_type": "stream",
     "text": [
      "You examine door c. You unlock it with a key you have.\n"
     ]
    },
    {
     "name": "stdin",
     "output_type": "stream",
     "text": [
      "Do you want to go to the next room? Ener 'yes' or 'no' yes\n"
     ]
    },
    {
     "name": "stdout",
     "output_type": "stream",
     "text": [
      "You are now in living room\n",
      "Playing for 107 seconds ONLY 43 SECONDS LEFT!!!\n"
     ]
    },
    {
     "name": "stdin",
     "output_type": "stream",
     "text": [
      "What would you like to do? Type 'explore' or 'examine' or 'teleport'? explore\n"
     ]
    },
    {
     "name": "stdout",
     "output_type": "stream",
     "text": [
      "You explore the room. This is living room. You find door d, dining table\n",
      "You are now in living room\n",
      "Playing for 109 seconds ONLY 41 SECONDS LEFT!!!\n"
     ]
    },
    {
     "name": "stdin",
     "output_type": "stream",
     "text": [
      "What would you like to do? Type 'explore' or 'examine' or 'teleport'? examine\n",
      "What would you like to examine? door\n"
     ]
    },
    {
     "name": "stdout",
     "output_type": "stream",
     "text": [
      "The item you requested is not found in the current room.\n",
      "You are now in living room\n",
      "Playing for 116 seconds ONLY 34 SECONDS LEFT!!!\n"
     ]
    },
    {
     "name": "stdin",
     "output_type": "stream",
     "text": [
      "What would you like to do? Type 'explore' or 'examine' or 'teleport'? door d\n"
     ]
    },
    {
     "name": "stdout",
     "output_type": "stream",
     "text": [
      "Not sure what you mean. Type 'explore' or 'examine'or 'teleport'.\n",
      "You are now in living room\n",
      "Playing for 117 seconds ONLY 33 SECONDS LEFT!!!\n"
     ]
    },
    {
     "name": "stdin",
     "output_type": "stream",
     "text": [
      "What would you like to do? Type 'explore' or 'examine' or 'teleport'? examine\n",
      "What would you like to examine? door d\n"
     ]
    },
    {
     "name": "stdout",
     "output_type": "stream",
     "text": [
      "You examine door d. You unlock it with a key you have.\n"
     ]
    },
    {
     "name": "stdin",
     "output_type": "stream",
     "text": [
      "Do you want to go to the next room? Ener 'yes' or 'no' yes\n"
     ]
    },
    {
     "name": "stdout",
     "output_type": "stream",
     "text": [
      "You are now in corridor\n",
      "Playing for 127 seconds ONLY 23 SECONDS LEFT!!!\n"
     ]
    },
    {
     "name": "stdin",
     "output_type": "stream",
     "text": [
      "What would you like to do? Type 'explore' or 'examine' or 'teleport'? explore\n"
     ]
    },
    {
     "name": "stdout",
     "output_type": "stream",
     "text": [
      "You explore the room. This is corridor. You find door f, door e, black box, blue box\n",
      "You are now in corridor\n",
      "Playing for 130 seconds ONLY 20 SECONDS LEFT!!!\n"
     ]
    },
    {
     "name": "stdin",
     "output_type": "stream",
     "text": [
      "What would you like to do? Type 'explore' or 'examine' or 'teleport'? examine\n",
      "What would you like to examine? black box\n"
     ]
    },
    {
     "name": "stdout",
     "output_type": "stream",
     "text": [
      "You examine black box. You find key for door e.\n",
      "You are now in corridor\n",
      "Playing for 137 seconds ONLY 13 SECONDS LEFT!!!\n"
     ]
    },
    {
     "name": "stdin",
     "output_type": "stream",
     "text": [
      "What would you like to do? Type 'explore' or 'examine' or 'teleport'? examine\n",
      "What would you like to examine? door e\n"
     ]
    },
    {
     "name": "stdout",
     "output_type": "stream",
     "text": [
      "You examine door e. You unlock it with a key you have.\n"
     ]
    },
    {
     "name": "stdin",
     "output_type": "stream",
     "text": [
      "Do you want to go to the next room? Ener 'yes' or 'no' yes\n"
     ]
    },
    {
     "name": "stdout",
     "output_type": "stream",
     "text": [
      "Congrats! You died!\n",
      "\n",
      "\n",
      "\n",
      "\n",
      "\n",
      "\n",
      "\n",
      "\n",
      "\n",
      "\n",
      "\n",
      "\n",
      "\n",
      "\n",
      "\n",
      "\n",
      "\n",
      "\n",
      "\n",
      "\n",
      "\n",
      "\n",
      "\n",
      "\n",
      "\n",
      "\n",
      "\n",
      "\n",
      "\n",
      "\n",
      "\n",
      "\n",
      "\n",
      "\n",
      "\n",
      "\n",
      "\n",
      "\n",
      "\n",
      "\n",
      "\n",
      "\n",
      "\n",
      "\n",
      "\n",
      "\n",
      "\n",
      "\n",
      "\n",
      "\n",
      "\n"
     ]
    }
   ],
   "source": [
    "game_state = INIT_GAME_STATE.copy()\n",
    "\n",
    "start_game()\n"
   ]
  },
  {
   "cell_type": "code",
   "execution_count": null,
   "id": "ac79bd39-5506-48fe-a22a-3cb0a8d2e4e2",
   "metadata": {},
   "outputs": [],
   "source": []
  },
  {
   "cell_type": "code",
   "execution_count": null,
   "id": "4de86604-13bc-408c-a4a8-0749786e336d",
   "metadata": {},
   "outputs": [],
   "source": []
  }
 ],
 "metadata": {
  "kernelspec": {
   "display_name": "Python 3 (ipykernel)",
   "language": "python",
   "name": "python3"
  },
  "language_info": {
   "codemirror_mode": {
    "name": "ipython",
    "version": 3
   },
   "file_extension": ".py",
   "mimetype": "text/x-python",
   "name": "python",
   "nbconvert_exporter": "python",
   "pygments_lexer": "ipython3",
   "version": "3.11.5"
  }
 },
 "nbformat": 4,
 "nbformat_minor": 5
}
